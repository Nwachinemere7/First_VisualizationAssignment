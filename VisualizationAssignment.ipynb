{
 "cells": [
  {
   "cell_type": "markdown",
   "id": "0305397c",
   "metadata": {},
   "source": [
    "# Loading and Cleaning of Data."
   ]
  },
  {
   "cell_type": "code",
   "execution_count": 152,
   "id": "282971a9",
   "metadata": {},
   "outputs": [],
   "source": [
    "import seaborn as sns, numpy as np, pandas as pd, matplotlib.pyplot as plt #import necessary libraries\n",
    "\n",
    "sns.set_theme()     #using a default theme for oresentation."
   ]
  },
  {
   "cell_type": "code",
   "execution_count": 153,
   "id": "d8854643",
   "metadata": {},
   "outputs": [
    {
     "data": {
      "text/html": [
       "<div>\n",
       "<style scoped>\n",
       "    .dataframe tbody tr th:only-of-type {\n",
       "        vertical-align: middle;\n",
       "    }\n",
       "\n",
       "    .dataframe tbody tr th {\n",
       "        vertical-align: top;\n",
       "    }\n",
       "\n",
       "    .dataframe thead th {\n",
       "        text-align: right;\n",
       "    }\n",
       "</style>\n",
       "<table border=\"1\" class=\"dataframe\">\n",
       "  <thead>\n",
       "    <tr style=\"text-align: right;\">\n",
       "      <th></th>\n",
       "      <th>survived</th>\n",
       "      <th>pclass</th>\n",
       "      <th>sex</th>\n",
       "      <th>age</th>\n",
       "      <th>sibsp</th>\n",
       "      <th>parch</th>\n",
       "      <th>fare</th>\n",
       "      <th>embarked</th>\n",
       "      <th>class</th>\n",
       "      <th>who</th>\n",
       "      <th>adult_male</th>\n",
       "      <th>deck</th>\n",
       "      <th>embark_town</th>\n",
       "      <th>alive</th>\n",
       "      <th>alone</th>\n",
       "    </tr>\n",
       "  </thead>\n",
       "  <tbody>\n",
       "    <tr>\n",
       "      <th>0</th>\n",
       "      <td>0</td>\n",
       "      <td>3</td>\n",
       "      <td>male</td>\n",
       "      <td>22.0</td>\n",
       "      <td>1</td>\n",
       "      <td>0</td>\n",
       "      <td>7.2500</td>\n",
       "      <td>S</td>\n",
       "      <td>Third</td>\n",
       "      <td>man</td>\n",
       "      <td>True</td>\n",
       "      <td>NaN</td>\n",
       "      <td>Southampton</td>\n",
       "      <td>no</td>\n",
       "      <td>False</td>\n",
       "    </tr>\n",
       "    <tr>\n",
       "      <th>1</th>\n",
       "      <td>1</td>\n",
       "      <td>1</td>\n",
       "      <td>female</td>\n",
       "      <td>38.0</td>\n",
       "      <td>1</td>\n",
       "      <td>0</td>\n",
       "      <td>71.2833</td>\n",
       "      <td>C</td>\n",
       "      <td>First</td>\n",
       "      <td>woman</td>\n",
       "      <td>False</td>\n",
       "      <td>C</td>\n",
       "      <td>Cherbourg</td>\n",
       "      <td>yes</td>\n",
       "      <td>False</td>\n",
       "    </tr>\n",
       "    <tr>\n",
       "      <th>2</th>\n",
       "      <td>1</td>\n",
       "      <td>3</td>\n",
       "      <td>female</td>\n",
       "      <td>26.0</td>\n",
       "      <td>0</td>\n",
       "      <td>0</td>\n",
       "      <td>7.9250</td>\n",
       "      <td>S</td>\n",
       "      <td>Third</td>\n",
       "      <td>woman</td>\n",
       "      <td>False</td>\n",
       "      <td>NaN</td>\n",
       "      <td>Southampton</td>\n",
       "      <td>yes</td>\n",
       "      <td>True</td>\n",
       "    </tr>\n",
       "    <tr>\n",
       "      <th>3</th>\n",
       "      <td>1</td>\n",
       "      <td>1</td>\n",
       "      <td>female</td>\n",
       "      <td>35.0</td>\n",
       "      <td>1</td>\n",
       "      <td>0</td>\n",
       "      <td>53.1000</td>\n",
       "      <td>S</td>\n",
       "      <td>First</td>\n",
       "      <td>woman</td>\n",
       "      <td>False</td>\n",
       "      <td>C</td>\n",
       "      <td>Southampton</td>\n",
       "      <td>yes</td>\n",
       "      <td>False</td>\n",
       "    </tr>\n",
       "    <tr>\n",
       "      <th>4</th>\n",
       "      <td>0</td>\n",
       "      <td>3</td>\n",
       "      <td>male</td>\n",
       "      <td>35.0</td>\n",
       "      <td>0</td>\n",
       "      <td>0</td>\n",
       "      <td>8.0500</td>\n",
       "      <td>S</td>\n",
       "      <td>Third</td>\n",
       "      <td>man</td>\n",
       "      <td>True</td>\n",
       "      <td>NaN</td>\n",
       "      <td>Southampton</td>\n",
       "      <td>no</td>\n",
       "      <td>True</td>\n",
       "    </tr>\n",
       "  </tbody>\n",
       "</table>\n",
       "</div>"
      ],
      "text/plain": [
       "   survived  pclass     sex   age  sibsp  parch     fare embarked  class  \\\n",
       "0         0       3    male  22.0      1      0   7.2500        S  Third   \n",
       "1         1       1  female  38.0      1      0  71.2833        C  First   \n",
       "2         1       3  female  26.0      0      0   7.9250        S  Third   \n",
       "3         1       1  female  35.0      1      0  53.1000        S  First   \n",
       "4         0       3    male  35.0      0      0   8.0500        S  Third   \n",
       "\n",
       "     who  adult_male deck  embark_town alive  alone  \n",
       "0    man        True  NaN  Southampton    no  False  \n",
       "1  woman       False    C    Cherbourg   yes  False  \n",
       "2  woman       False  NaN  Southampton   yes   True  \n",
       "3  woman       False    C  Southampton   yes  False  \n",
       "4    man        True  NaN  Southampton    no   True  "
      ]
     },
     "execution_count": 153,
     "metadata": {},
     "output_type": "execute_result"
    }
   ],
   "source": [
    "#loading the dataset into the worksheet\n",
    "\n",
    "df = sns.load_dataset(\"titanic\")\n",
    "df.head()"
   ]
  },
  {
   "cell_type": "code",
   "execution_count": 154,
   "id": "d6cd377e",
   "metadata": {},
   "outputs": [
    {
     "data": {
      "text/plain": [
       "survived         int64\n",
       "pclass           int64\n",
       "sex             object\n",
       "age            float64\n",
       "sibsp            int64\n",
       "parch            int64\n",
       "fare           float64\n",
       "embarked        object\n",
       "class           object\n",
       "who             object\n",
       "adult_male        bool\n",
       "deck            object\n",
       "embark_town     object\n",
       "alive           object\n",
       "alone             bool\n",
       "dtype: object"
      ]
     },
     "execution_count": 154,
     "metadata": {},
     "output_type": "execute_result"
    }
   ],
   "source": [
    "#converting category datatype to objects. for similarity.\n",
    "\n",
    "convert_dtype = {\"class\": object,\n",
    "                \"deck\": object}\n",
    "df = df.astype(convert_dtype)\n",
    "df.dtypes"
   ]
  },
  {
   "cell_type": "code",
   "execution_count": 155,
   "id": "c404528a",
   "metadata": {},
   "outputs": [],
   "source": [
    "#renamin columns for uniformity.\n",
    "\n",
    "df.rename(columns={\"survived\": \"Survived\",\n",
    "                   \"pclass\": \"PClass\", \n",
    "                   \"sex\": \"Gender\",\n",
    "                   \"age\": \"Age\",\n",
    "                   \"sibsp\": \"Sibsp\",\n",
    "                   \"parch\": \"Parch\",\n",
    "                   \"fare\": \"Fare\",\n",
    "                   \"class\": \"Class\",\n",
    "                   \"who\": \"Who\",\n",
    "                   \"deck\": \"Deck\",\n",
    "                   \"embark_town\": \"Embarkment\",\n",
    "                   \"adult_male\": \"AdultMale\",\n",
    "                  \"alive\": \"Alive\",\n",
    "                  \"alone\": \"Alone\"}, inplace=True)\n",
    "\n",
    "#deleting embarked column from the dataset because it is similar to \"embarkment\"\n",
    "\n",
    "df.drop([\"embarked\"], axis=1, inplace=True)"
   ]
  },
  {
   "cell_type": "code",
   "execution_count": 156,
   "id": "758a5c52",
   "metadata": {},
   "outputs": [
    {
     "name": "stderr",
     "output_type": "stream",
     "text": [
      "C:\\Users\\titus\\AppData\\Local\\Temp/ipykernel_42976/3828849625.py:5: FutureWarning: Dropping of nuisance columns in DataFrame reductions (with 'numeric_only=None') is deprecated; in a future version this will raise TypeError.  Select only valid columns before calling the reduction.\n",
      "  df[num_columns] = df[num_columns].fillna(df.mean())\n"
     ]
    }
   ],
   "source": [
    "#replacing missing numerical values\n",
    "\n",
    "num = df.select_dtypes(include=np.number)\n",
    "num_columns = num.columns\n",
    "df[num_columns] = df[num_columns].fillna(df.mean())"
   ]
  },
  {
   "cell_type": "code",
   "execution_count": 157,
   "id": "848d1700",
   "metadata": {},
   "outputs": [
    {
     "name": "stderr",
     "output_type": "stream",
     "text": [
      "C:\\Users\\titus\\AppData\\Local\\Temp/ipykernel_42976/2268518554.py:1: DeprecationWarning: `np.object` is a deprecated alias for the builtin `object`. To silence this warning, use `object` by itself. Doing this will not modify any behavior and is safe. \n",
      "Deprecated in NumPy 1.20; for more details and guidance: https://numpy.org/devdocs/release/1.20.0-notes.html#deprecations\n",
      "  obj_columns = df.select_dtypes(include= np.object).columns.tolist()\n"
     ]
    }
   ],
   "source": [
    "obj_columns = df.select_dtypes(include= np.object).columns.tolist()\n",
    "df[obj_columns] = df[obj_columns].astype(\"str\")\n",
    "df[obj_columns].fillna(df.mode)\n",
    "\n",
    "#replcaing \"NaN\" values in deck column with the highest occuring value \"C\"\n",
    "df['Deck'] = df['Deck'].replace(['nan'],['C'])"
   ]
  },
  {
   "cell_type": "code",
   "execution_count": 158,
   "id": "3f353bde",
   "metadata": {},
   "outputs": [
    {
     "name": "stdout",
     "output_type": "stream",
     "text": [
      "<class 'pandas.core.frame.DataFrame'>\n",
      "RangeIndex: 891 entries, 0 to 890\n",
      "Data columns (total 14 columns):\n",
      " #   Column      Non-Null Count  Dtype  \n",
      "---  ------      --------------  -----  \n",
      " 0   Survived    891 non-null    int64  \n",
      " 1   PClass      891 non-null    int64  \n",
      " 2   Gender      891 non-null    object \n",
      " 3   Age         891 non-null    float64\n",
      " 4   Sibsp       891 non-null    int64  \n",
      " 5   Parch       891 non-null    int64  \n",
      " 6   Fare        891 non-null    float64\n",
      " 7   Class       891 non-null    object \n",
      " 8   Who         891 non-null    object \n",
      " 9   AdultMale   891 non-null    bool   \n",
      " 10  Deck        891 non-null    object \n",
      " 11  Embarkment  891 non-null    object \n",
      " 12  Alive       891 non-null    object \n",
      " 13  Alone       891 non-null    bool   \n",
      "dtypes: bool(2), float64(2), int64(4), object(6)\n",
      "memory usage: 85.4+ KB\n"
     ]
    }
   ],
   "source": [
    "df.info()"
   ]
  },
  {
   "cell_type": "markdown",
   "id": "304e5805",
   "metadata": {},
   "source": [
    "# Visualization"
   ]
  },
  {
   "cell_type": "code",
   "execution_count": 159,
   "id": "f65c77ea",
   "metadata": {},
   "outputs": [
    {
     "data": {
      "text/plain": [
       "<seaborn.axisgrid.FacetGrid at 0x28ec1adf8b0>"
      ]
     },
     "execution_count": 159,
     "metadata": {},
     "output_type": "execute_result"
    },
    {
     "data": {
      "image/png": "[encoded data removed]",
      "text/plain": [
       "<Figure size 360x360 with 1 Axes>"
      ]
     },
     "metadata": {},
     "output_type": "display_data"
    }
   ],
   "source": [
    "#1. Showing the Age distribution of the passengers.\n",
    "\n",
    "sns.set_style(\"ticks\")\n",
    "sns.set_color_codes()\n",
    "sns.displot(data=df, x=\"Age\", bins=12, color=\"r\", kde=True,)\n",
    "          "
   ]
  },
  {
   "cell_type": "markdown",
   "id": "e13611f7",
   "metadata": {},
   "source": [
    "The Histogram shows the Age distribution of the passengers on the ship. From the plot, the age demography on board the ship can be found between the ages of 25-35. "
   ]
  },
  {
   "cell_type": "code",
   "execution_count": 160,
   "id": "0f5c9e2f",
   "metadata": {},
   "outputs": [
    {
     "data": {
      "text/plain": [
       "<AxesSubplot:title={'center':'Number of Male vs Female'}, xlabel='Gender', ylabel='count'>"
      ]
     },
     "execution_count": 160,
     "metadata": {},
     "output_type": "execute_result"
    },
    {
     "data": {
      "image/png": "[encoded data removed]",
      "text/plain": [
       "<Figure size 360x504 with 1 Axes>"
      ]
     },
     "metadata": {},
     "output_type": "display_data"
    }
   ],
   "source": [
    "#2. Display the gender of the passengers .\n",
    "\n",
    "sns.set_style(\"ticks\")\n",
    "fig = plt.figure(figsize=(5, 7))\n",
    "plt.title(\"Number of Male vs Female\")\n",
    "sns.countplot(data=df, x=\"Gender\", palette=\"magma\",)"
   ]
  },
  {
   "cell_type": "markdown",
   "id": "62286e09",
   "metadata": {},
   "source": [
    "From the Bar chart visual, we could confirm that the Male gender is the highest gender demography onboard the ship."
   ]
  },
  {
   "cell_type": "code",
   "execution_count": 161,
   "id": "12691e49",
   "metadata": {},
   "outputs": [
    {
     "data": {
      "text/plain": [
       "<AxesSubplot:title={'center':'Classes'}, xlabel='Class', ylabel='count'>"
      ]
     },
     "execution_count": 161,
     "metadata": {},
     "output_type": "execute_result"
    },
    {
     "data": {
      "image/png": "[encoded data removed]",
      "text/plain": [
       "<Figure size 360x504 with 1 Axes>"
      ]
     },
     "metadata": {},
     "output_type": "display_data"
    }
   ],
   "source": [
    "#3. Classes available on the ship\n",
    "\n",
    "sns.set_style(\"ticks\")\n",
    "fig = plt.figure(figsize=(5, 7))\n",
    "plt.title(\"Classes\")\n",
    "sns.countplot(data=df, x=\"Class\", palette=\"rainbow\",)"
   ]
  },
  {
   "cell_type": "markdown",
   "id": "b7753a61",
   "metadata": {},
   "source": [
    "The plot above shows the distribution of the Classes onboard the ship. It shows the Third class is the most occupied class on the ship."
   ]
  },
  {
   "cell_type": "code",
   "execution_count": 165,
   "id": "d45cb931",
   "metadata": {},
   "outputs": [
    {
     "data": {
      "text/plain": [
       "<seaborn.axisgrid.JointGrid at 0x28ec674abe0>"
      ]
     },
     "execution_count": 165,
     "metadata": {},
     "output_type": "execute_result"
    },
    {
     "data": {
      "image/png": "[encoded data removed]",
      "text/plain": [
       "<Figure size 432x432 with 3 Axes>"
      ]
     },
     "metadata": {},
     "output_type": "display_data"
    }
   ],
   "source": [
    "#4.  Using joint plot to explore the relationship between the age and fare.\n",
    "\n",
    "sns.set_style(\"ticks\")\n",
    "sns.jointplot(data=df, x=\"Age\", y=\"Fare\", kind=\"kde\")"
   ]
  },
  {
   "cell_type": "markdown",
   "id": "482fdc43",
   "metadata": {},
   "source": [
    "There is a concentration of the amount/contribution to fare charges around the age group of 20 - 40 yrs. the relationship is denser around the age limit of 30-35.\n"
   ]
  }
 ],
 "metadata": {
  "kernelspec": {
   "display_name": "Python 3 (ipykernel)",
   "language": "python",
   "name": "python3"
  },
  "language_info": {
   "codemirror_mode": {
    "name": "ipython",
    "version": 3
   },
   "file_extension": ".py",
   "mimetype": "text/x-python",
   "name": "python",
   "nbconvert_exporter": "python",
   "pygments_lexer": "ipython3",
   "version": "3.9.7"
  }
 },
 "nbformat": 4,
 "nbformat_minor": 5
}
